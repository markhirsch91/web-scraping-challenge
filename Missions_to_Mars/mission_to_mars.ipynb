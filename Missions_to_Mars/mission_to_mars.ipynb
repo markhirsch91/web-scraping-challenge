{
 "metadata": {
  "language_info": {
   "codemirror_mode": {
    "name": "ipython",
    "version": 3
   },
   "file_extension": ".py",
   "mimetype": "text/x-python",
   "name": "python",
   "nbconvert_exporter": "python",
   "pygments_lexer": "ipython3",
   "version": "3.8.5-final"
  },
  "orig_nbformat": 2,
  "kernelspec": {
   "name": "python_defaultSpec_1598915935173",
   "display_name": "Python 3.8.5 64-bit ('PythonData': conda)"
  }
 },
 "nbformat": 4,
 "nbformat_minor": 2,
 "cells": [
  {
   "cell_type": "code",
   "execution_count": 3,
   "metadata": {},
   "outputs": [],
   "source": [
    "# Importing dependencies\n",
    "from flask import Flask, render_template, redirect\n",
    "from flask_pymongo import PyMongo\n",
    "from splinter import Browser\n",
    "from bs4 import BeautifulSoup\n",
    "import os\n",
    "import pandas as pd\n"
   ]
  },
  {
   "cell_type": "markdown",
   "metadata": {},
   "source": [
    "# Step 1 - Scraping\n",
    "***"
   ]
  },
  {
   "cell_type": "markdown",
   "metadata": {},
   "source": [
    "## NASA Mars News"
   ]
  },
  {
   "cell_type": "code",
   "execution_count": 4,
   "metadata": {},
   "outputs": [],
   "source": [
    "executable_path = {\"executable_path\": \"C:\\WebDriver/chromedriver\"}\n",
    "browser = Browser('chrome', **executable_path, headless=False)\n",
    "nasa_url = 'https://mars.nasa.gov/news/'\n",
    "browser.visit(nasa_url)"
   ]
  },
  {
   "cell_type": "code",
   "execution_count": 5,
   "metadata": {
    "tags": []
   },
   "outputs": [
    {
     "output_type": "stream",
     "name": "stdout",
     "text": "NASA Engineers Checking InSight's Weather Sensors\n-----------------------------\nAn electronics issue is suspected to be preventing the sensors from sharing their data about Mars weather with the spacecraft.\n"
    }
   ],
   "source": [
    "html = browser.html\n",
    "soup = BeautifulSoup(html, 'html.parser')\n",
    "\n",
    "\n",
    "\n",
    "news_title = soup.find(\"li\", class_=\"slide\").find('div', class_='content_title').text\n",
    "news_p = soup.find(\"div\", class_=\"article_teaser_body\").text\n",
    "\n",
    "print(news_title)\n",
    "print(\"-----------------------------\")\n",
    "print(news_p)\n"
   ]
  },
  {
   "cell_type": "markdown",
   "metadata": {},
   "source": [
    "## JPL Mars Space Images - Featured Image"
   ]
  },
  {
   "cell_type": "code",
   "execution_count": 6,
   "metadata": {},
   "outputs": [],
   "source": [
    "nasa_image_url = 'https://www.jpl.nasa.gov/spaceimages/?search=&category=Mars'\n",
    "browser.visit(nasa_image_url)\n",
    "featured_img_html = browser.html\n",
    "soup = BeautifulSoup(featured_img_html, 'html.parser')"
   ]
  },
  {
   "cell_type": "code",
   "execution_count": 8,
   "metadata": {
    "tags": []
   },
   "outputs": [
    {
     "output_type": "stream",
     "name": "stdout",
     "text": "https://www.jpl.nasa.gov/spaceimages/images/wallpaper/PIA17172-1920x1200.jpg\n"
    }
   ],
   "source": [
    "#string.replace(old, new, count)\n",
    "# old = 'background-image: url('\n",
    "# new = '')\n",
    "\n",
    "# cleaning up the suffix image URL, and adding it to the base URL to have the full image URL printed\n",
    "featured_image_url = 'https://www.jpl.nasa.gov' + soup.find('article')['style'].replace('background-image: url(','').replace(');','').replace(\"'\",\"\")\n",
    "\n",
    "print(featured_image_url)"
   ]
  },
  {
   "cell_type": "markdown",
   "metadata": {},
   "source": [
    "## Mars Facts"
   ]
  },
  {
   "cell_type": "code",
   "execution_count": 9,
   "metadata": {},
   "outputs": [],
   "source": [
    "mars_facts_url = 'https://space-facts.com/mars/'\n",
    "browser.visit(mars_facts_url)\n",
    "mars_facts_html = browser.html\n",
    "soup = BeautifulSoup(mars_facts_html, 'html.parser')"
   ]
  },
  {
   "cell_type": "code",
   "execution_count": 10,
   "metadata": {
    "tags": []
   },
   "outputs": [
    {
     "output_type": "stream",
     "name": "stdout",
     "text": "MARS PLANET PROFILE\n-------------------\nEquatorial Diameter: 6,792 km\nPolar Diameter: 6,752 km\nMass: 6.39 × 10^23 kg (0.11 Earths)\nMoons: 2 (Phobos & Deimos)\nOrbit Distance: 227,943,824 km (1.38 AU)\nOrbit Period: 687 days (1.9 years)\nSurface Temperature: -87 to -5 °C\nFirst Record: 2nd millennium BC\nRecorded By: Egyptian astronomers\n"
    }
   ],
   "source": [
    "# Scraping and printing the everything in the MARS PLANET PROFILE table in order to double check the HTML table later on\n",
    "\n",
    "\n",
    "eq_diameter = soup.find(\"tr\", class_=\"row-1 odd\").find(\"td\", class_=\"column-2\").text\n",
    "po_diameter = soup.find(\"tr\", class_=\"row-2 even\").find(\"td\", class_=\"column-2\").text\n",
    "mass = soup.find(\"tr\", class_=\"row-3 odd\").find(\"td\", class_=\"column-2\").text\n",
    "moons = soup.find(\"tr\", class_=\"row-4 even\").find(\"td\", class_=\"column-2\").text\n",
    "orbit_distance = soup.find(\"tr\", class_=\"row-5 odd\").find(\"td\", class_=\"column-2\").text\n",
    "orbit_period = soup.find(\"tr\", class_=\"row-6 even\").find(\"td\", class_=\"column-2\").text\n",
    "surface_temp = soup.find(\"tr\", class_=\"row-7 odd\").find(\"td\", class_=\"column-2\").text\n",
    "first_record = soup.find(\"tr\", class_=\"row-8 even\").find(\"td\", class_=\"column-2\").text\n",
    "recorded_by = soup.find(\"tr\", class_=\"row-9 odd\").find(\"td\", class_=\"column-2\").text\n",
    "\n",
    "\n",
    "print(\"MARS PLANET PROFILE\")\n",
    "print(\"-------------------\")\n",
    "print(f\"Equatorial Diameter: {eq_diameter}\")\n",
    "print(f\"Polar Diameter: {po_diameter}\")\n",
    "print(f\"Mass: {mass}\")\n",
    "print(f\"Moons: {moons}\")\n",
    "print(f\"Orbit Distance: {orbit_distance}\")\n",
    "print(f\"Orbit Period: {orbit_period}\")\n",
    "print(f\"Surface Temperature: {surface_temp}\")\n",
    "print(f\"First Record: {first_record}\")\n",
    "print(f\"Recorded By: {recorded_by}\")\n"
   ]
  },
  {
   "cell_type": "code",
   "execution_count": 15,
   "metadata": {
    "tags": []
   },
   "outputs": [
    {
     "output_type": "stream",
     "name": "stdout",
     "text": "<table border=\"1\" class=\"dataframe\">\n  <thead>\n    <tr style=\"text-align: right;\">\n      <th></th>\n      <th>Value</th>\n    </tr>\n    <tr>\n      <th>Label</th>\n      <th></th>\n    </tr>\n  </thead>\n  <tbody>\n    <tr>\n      <th>Equatorial Diameter:</th>\n      <td>6,792 km</td>\n    </tr>\n    <tr>\n      <th>Polar Diameter:</th>\n      <td>6,752 km</td>\n    </tr>\n    <tr>\n      <th>Mass:</th>\n      <td>6.39 × 10^23 kg (0.11 Earths)</td>\n    </tr>\n    <tr>\n      <th>Moons:</th>\n      <td>2 (Phobos &amp; Deimos)</td>\n    </tr>\n    <tr>\n      <th>Orbit Distance:</th>\n      <td>227,943,824 km (1.38 AU)</td>\n    </tr>\n    <tr>\n      <th>Orbit Period:</th>\n      <td>687 days (1.9 years)</td>\n    </tr>\n    <tr>\n      <th>Surface Temperature:</th>\n      <td>-87 to -5 °C</td>\n    </tr>\n    <tr>\n      <th>First Record:</th>\n      <td>2nd millennium BC</td>\n    </tr>\n    <tr>\n      <th>Recorded By:</th>\n      <td>Egyptian astronomers</td>\n    </tr>\n  </tbody>\n</table>\n"
    }
   ],
   "source": [
    "# finding the first table on the page, and converting it to HTML\n",
    "\n",
    "tables = pd.read_html(mars_facts_url)\n",
    "mars_fact_table_df = tables[0]\n",
    "mars_fact_table_df.columns = ['Label','Value']\n",
    "\n",
    "mars_fact_table_df.set_index('Label',inplace=True)\n",
    "mars_fact_table_df\n",
    "facts_html_table = mars_fact_table_df.to_html()\n",
    "print(facts_html_table\n"
   ]
  },
  {
   "cell_type": "code",
   "execution_count": 14,
   "metadata": {},
   "outputs": [],
   "source": [
    "# Saving the HTML file in the Mission_to_Mars folder\n",
    "mars_fact_table_df.to_html('mars_facts.html')"
   ]
  },
  {
   "cell_type": "markdown",
   "metadata": {},
   "source": [
    "## Mars Hemispheres"
   ]
  },
  {
   "cell_type": "code",
   "execution_count": 13,
   "metadata": {},
   "outputs": [],
   "source": [
    "mars_hems_url = 'https://astrogeology.usgs.gov/search/results?q=hemisphere+enhanced&k1=target&v1=Mars'\n",
    "browser.visit(mars_hems_url)\n",
    "mars_hems_html = browser.html\n",
    "soup = BeautifulSoup(mars_hems_html, 'html.parser')"
   ]
  },
  {
   "cell_type": "code",
   "execution_count": 23,
   "metadata": {
    "tags": []
   },
   "outputs": [],
   "source": [
    "image_urls_hems = []\n",
    "base_url_hems = 'https://astrogeology.usgs.gov/'\n",
    "\n",
    "\n",
    "# find intial section for each image which is located in <div class=\"item\"> and then loop through each of the 'sections'\n",
    "sections = soup.find_all(\"div\", class_=\"item\")\n",
    "\n",
    "for section in sections:\n",
    "    section.find('a')"
   ]
  },
  {
   "cell_type": "code",
   "execution_count": null,
   "metadata": {},
   "outputs": [],
   "source": []
  }
 ]
}